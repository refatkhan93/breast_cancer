{
 "cells": [
  {
   "cell_type": "code",
   "execution_count": 1,
   "id": "196dbd57",
   "metadata": {},
   "outputs": [],
   "source": [
    "import pandas as pd\n",
    "import numpy as np\n",
    "import pathlib\n",
    "import os\n",
    "import cv2\n",
    "from  matplotlib import pyplot as plt\n",
    "import matplotlib.image as mpimg\n",
    "import seaborn as sns\n",
    "%matplotlib inline\n",
    "from sklearn.model_selection import train_test_split\n",
    "from sklearn.metrics import classification_report,confusion_matrix\n",
    "from sklearn.preprocessing import LabelBinarizer\n",
    "import collections\n",
    "import tensorflow as tf\n",
    "from tensorflow import keras\n",
    "from keras.layers import Dense, Input, InputLayer, Flatten, LeakyReLU, SeparableConv2D, Activation,Conv2D , MaxPool2D  , Dropout , BatchNormalization, concatenate, Conv2DTranspose, MaxPooling2D\n",
    "from keras.models import Sequential, Model\n",
    "from tensorflow.keras.optimizers import Adam, SGD, Adagrad\n",
    "from keras.preprocessing.image import ImageDataGenerator\n",
    "from keras.callbacks import ReduceLROnPlateau"
   ]
  },
  {
   "cell_type": "code",
   "execution_count": 7,
   "id": "e1e0c375",
   "metadata": {},
   "outputs": [],
   "source": [
    "def process_contour(image_path):\n",
    "    image= cv2.imread( image_path)\n",
    "    image=cv2.resize(image, (100, 100),interpolation = cv2.INTER_AREA)\n",
    "    gray = cv2.cvtColor(image, cv2.COLOR_RGB2GRAY)\n",
    "    _, binary = cv2.threshold(gray, 225, 255, cv2.THRESH_BINARY_INV)\n",
    "    binary = 255 - binary;\n",
    "    contours, hierarchy = cv2.findContours(binary, cv2.RETR_TREE, cv2.CHAIN_APPROX_SIMPLE)\n",
    "    arr = np.zeros((200,2),dtype=float)\n",
    "    if len(contours) > 1:\n",
    "      contours = max(contours, key = cv2.contourArea)\n",
    "      new  = np.reshape(contours[0],(np.shape(contours[0])[0],2))\n",
    "      arr[:np.shape(contours[0])[0],:] = new\n",
    "    else:\n",
    "      new  = np.reshape(contours[0],(np.shape(contours[0])[0],2))\n",
    "      arr[:np.shape(contours[0])[0],:] = new\n",
    "    output = cv2.drawContours(image, contours[0], -1, (0, 255, 0), 2)    \n",
    "    return arr,output\n",
    "    "
   ]
  },
  {
   "cell_type": "code",
   "execution_count": 8,
   "id": "1222a800",
   "metadata": {},
   "outputs": [
    {
     "data": {
      "text/plain": [
       "<matplotlib.image.AxesImage at 0x1ce89c77130>"
      ]
     },
     "execution_count": 8,
     "metadata": {},
     "output_type": "execute_result"
    },
    {
     "data": {
      "image/png": "[encoded data removed]",
      "text/plain": [
       "<Figure size 432x288 with 1 Axes>"
      ]
     },
     "metadata": {
      "needs_background": "light"
     },
     "output_type": "display_data"
    }
   ],
   "source": [
    "data,image = process_contour('mask.png')\n",
    "plt.imshow(image)"
   ]
  }
 ],
 "metadata": {
  "kernelspec": {
   "display_name": "Python 3 (ipykernel)",
   "language": "python",
   "name": "python3"
  },
  "language_info": {
   "codemirror_mode": {
    "name": "ipython",
    "version": 3
   },
   "file_extension": ".py",
   "mimetype": "text/x-python",
   "name": "python",
   "nbconvert_exporter": "python",
   "pygments_lexer": "ipython3",
   "version": "3.9.7"
  }
 },
 "nbformat": 4,
 "nbformat_minor": 5
}
